{
  "cells": [
    {
      "cell_type": "markdown",
      "metadata": {
        "id": "view-in-github",
        "colab_type": "text"
      },
      "source": [
        "<a href=\"https://colab.research.google.com/github/jackson-mb/MPA-MLF/blob/main/Lab_07_Jackson_MBELLA_.ipynb\" target=\"_parent\"><img src=\"https://colab.research.google.com/assets/colab-badge.svg\" alt=\"Open In Colab\"/></a>"
      ]
    },
    {
      "cell_type": "markdown",
      "metadata": {
        "id": "9457fdc4-1690-4c41-8e88-1597fc2a687c"
      },
      "source": [
        " # MPA-MLF, Lab 7 - Convolutional Neural Network"
      ],
      "id": "9457fdc4-1690-4c41-8e88-1597fc2a687c"
    },
    {
      "cell_type": "markdown",
      "metadata": {
        "id": "ffa6be62-ed89-4801-b297-f1a1211ce297"
      },
      "source": [
        "## Exercise - Hand-written digits recognition"
      ],
      "id": "ffa6be62-ed89-4801-b297-f1a1211ce297"
    },
    {
      "cell_type": "markdown",
      "metadata": {
        "id": "89808395-7ffe-4df1-91e5-f31ce090b932"
      },
      "source": [
        "Create CNN which will process and recognize handwritten digits. For this purposes please use the MNIST database (Modified National Institute of Standards and Technology database) which is a large database of handwritten digits that is commonly used for training various image processing systems.\n",
        "\n",
        "The datasample of the MNIST datasets can be see in the following picture"
      ],
      "id": "89808395-7ffe-4df1-91e5-f31ce090b932"
    },
    {
      "cell_type": "markdown",
      "metadata": {
        "id": "87b6e2b8-73da-4476-b47d-2f4aafead049"
      },
      "source": [
        "![mnist_data_sample.png](attachment:eb3e0d6a-ccb0-499d-9847-ecbc554dbce0.png)"
      ],
      "id": "87b6e2b8-73da-4476-b47d-2f4aafead049"
    },
    {
      "cell_type": "markdown",
      "metadata": {
        "id": "0c65f181-d971-4f0e-ba63-17c242a65d6c"
      },
      "source": [
        "### Task description"
      ],
      "id": "0c65f181-d971-4f0e-ba63-17c242a65d6c"
    },
    {
      "cell_type": "markdown",
      "metadata": {
        "id": "1b6b04cf-eeec-404a-824b-f9aa1d3b7d7a"
      },
      "source": [
        "In the terms of machine learning, the Hand-written digits recognition can be threated as a multi-class classification problem. This is very important knowledge to structure our model in the correct way (Especially the output-layer, including the number of neurons and activations function and the overall loss function and classification metrics)"
      ],
      "id": "1b6b04cf-eeec-404a-824b-f9aa1d3b7d7a"
    },
    {
      "cell_type": "markdown",
      "metadata": {
        "id": "b724de14-3931-4983-b443-7e0106d190dc"
      },
      "source": [
        "### 0. Import libraries"
      ],
      "id": "b724de14-3931-4983-b443-7e0106d190dc"
    },
    {
      "cell_type": "markdown",
      "metadata": {
        "id": "1ffd9b11-f9c1-4b3f-8dd1-cbb18487a075"
      },
      "source": [
        "Import the all necessary libraries, you can get inspired by the previous exercises. You can improst the libraries gradually, when do you progressing with the task"
      ],
      "id": "1ffd9b11-f9c1-4b3f-8dd1-cbb18487a075"
    },
    {
      "cell_type": "code",
      "execution_count": 2,
      "metadata": {
        "colab": {
          "base_uri": "https://localhost:8080/"
        },
        "id": "-JQKB55RRciL",
        "outputId": "47f761a6-a018-4e81-dd4e-e515e5d4d845"
      },
      "outputs": [
        {
          "output_type": "stream",
          "name": "stdout",
          "text": [
            "Requirement already satisfied: tensorflow in /usr/local/lib/python3.10/dist-packages (2.15.0)\n",
            "Requirement already satisfied: keras in /usr/local/lib/python3.10/dist-packages (2.15.0)\n",
            "Requirement already satisfied: absl-py>=1.0.0 in /usr/local/lib/python3.10/dist-packages (from tensorflow) (1.4.0)\n",
            "Requirement already satisfied: astunparse>=1.6.0 in /usr/local/lib/python3.10/dist-packages (from tensorflow) (1.6.3)\n",
            "Requirement already satisfied: flatbuffers>=23.5.26 in /usr/local/lib/python3.10/dist-packages (from tensorflow) (24.3.25)\n",
            "Requirement already satisfied: gast!=0.5.0,!=0.5.1,!=0.5.2,>=0.2.1 in /usr/local/lib/python3.10/dist-packages (from tensorflow) (0.5.4)\n",
            "Requirement already satisfied: google-pasta>=0.1.1 in /usr/local/lib/python3.10/dist-packages (from tensorflow) (0.2.0)\n",
            "Requirement already satisfied: h5py>=2.9.0 in /usr/local/lib/python3.10/dist-packages (from tensorflow) (3.9.0)\n",
            "Requirement already satisfied: libclang>=13.0.0 in /usr/local/lib/python3.10/dist-packages (from tensorflow) (18.1.1)\n",
            "Requirement already satisfied: ml-dtypes~=0.2.0 in /usr/local/lib/python3.10/dist-packages (from tensorflow) (0.2.0)\n",
            "Requirement already satisfied: numpy<2.0.0,>=1.23.5 in /usr/local/lib/python3.10/dist-packages (from tensorflow) (1.25.2)\n",
            "Requirement already satisfied: opt-einsum>=2.3.2 in /usr/local/lib/python3.10/dist-packages (from tensorflow) (3.3.0)\n",
            "Requirement already satisfied: packaging in /usr/local/lib/python3.10/dist-packages (from tensorflow) (24.0)\n",
            "Requirement already satisfied: protobuf!=4.21.0,!=4.21.1,!=4.21.2,!=4.21.3,!=4.21.4,!=4.21.5,<5.0.0dev,>=3.20.3 in /usr/local/lib/python3.10/dist-packages (from tensorflow) (3.20.3)\n",
            "Requirement already satisfied: setuptools in /usr/local/lib/python3.10/dist-packages (from tensorflow) (67.7.2)\n",
            "Requirement already satisfied: six>=1.12.0 in /usr/local/lib/python3.10/dist-packages (from tensorflow) (1.16.0)\n",
            "Requirement already satisfied: termcolor>=1.1.0 in /usr/local/lib/python3.10/dist-packages (from tensorflow) (2.4.0)\n",
            "Requirement already satisfied: typing-extensions>=3.6.6 in /usr/local/lib/python3.10/dist-packages (from tensorflow) (4.10.0)\n",
            "Requirement already satisfied: wrapt<1.15,>=1.11.0 in /usr/local/lib/python3.10/dist-packages (from tensorflow) (1.14.1)\n",
            "Requirement already satisfied: tensorflow-io-gcs-filesystem>=0.23.1 in /usr/local/lib/python3.10/dist-packages (from tensorflow) (0.36.0)\n",
            "Requirement already satisfied: grpcio<2.0,>=1.24.3 in /usr/local/lib/python3.10/dist-packages (from tensorflow) (1.62.1)\n",
            "Requirement already satisfied: tensorboard<2.16,>=2.15 in /usr/local/lib/python3.10/dist-packages (from tensorflow) (2.15.2)\n",
            "Requirement already satisfied: tensorflow-estimator<2.16,>=2.15.0 in /usr/local/lib/python3.10/dist-packages (from tensorflow) (2.15.0)\n",
            "Requirement already satisfied: wheel<1.0,>=0.23.0 in /usr/local/lib/python3.10/dist-packages (from astunparse>=1.6.0->tensorflow) (0.43.0)\n",
            "Requirement already satisfied: google-auth<3,>=1.6.3 in /usr/local/lib/python3.10/dist-packages (from tensorboard<2.16,>=2.15->tensorflow) (2.27.0)\n",
            "Requirement already satisfied: google-auth-oauthlib<2,>=0.5 in /usr/local/lib/python3.10/dist-packages (from tensorboard<2.16,>=2.15->tensorflow) (1.2.0)\n",
            "Requirement already satisfied: markdown>=2.6.8 in /usr/local/lib/python3.10/dist-packages (from tensorboard<2.16,>=2.15->tensorflow) (3.6)\n",
            "Requirement already satisfied: requests<3,>=2.21.0 in /usr/local/lib/python3.10/dist-packages (from tensorboard<2.16,>=2.15->tensorflow) (2.31.0)\n",
            "Requirement already satisfied: tensorboard-data-server<0.8.0,>=0.7.0 in /usr/local/lib/python3.10/dist-packages (from tensorboard<2.16,>=2.15->tensorflow) (0.7.2)\n",
            "Requirement already satisfied: werkzeug>=1.0.1 in /usr/local/lib/python3.10/dist-packages (from tensorboard<2.16,>=2.15->tensorflow) (3.0.2)\n",
            "Requirement already satisfied: cachetools<6.0,>=2.0.0 in /usr/local/lib/python3.10/dist-packages (from google-auth<3,>=1.6.3->tensorboard<2.16,>=2.15->tensorflow) (5.3.3)\n",
            "Requirement already satisfied: pyasn1-modules>=0.2.1 in /usr/local/lib/python3.10/dist-packages (from google-auth<3,>=1.6.3->tensorboard<2.16,>=2.15->tensorflow) (0.4.0)\n",
            "Requirement already satisfied: rsa<5,>=3.1.4 in /usr/local/lib/python3.10/dist-packages (from google-auth<3,>=1.6.3->tensorboard<2.16,>=2.15->tensorflow) (4.9)\n",
            "Requirement already satisfied: requests-oauthlib>=0.7.0 in /usr/local/lib/python3.10/dist-packages (from google-auth-oauthlib<2,>=0.5->tensorboard<2.16,>=2.15->tensorflow) (1.3.1)\n",
            "Requirement already satisfied: charset-normalizer<4,>=2 in /usr/local/lib/python3.10/dist-packages (from requests<3,>=2.21.0->tensorboard<2.16,>=2.15->tensorflow) (3.3.2)\n",
            "Requirement already satisfied: idna<4,>=2.5 in /usr/local/lib/python3.10/dist-packages (from requests<3,>=2.21.0->tensorboard<2.16,>=2.15->tensorflow) (3.6)\n",
            "Requirement already satisfied: urllib3<3,>=1.21.1 in /usr/local/lib/python3.10/dist-packages (from requests<3,>=2.21.0->tensorboard<2.16,>=2.15->tensorflow) (2.0.7)\n",
            "Requirement already satisfied: certifi>=2017.4.17 in /usr/local/lib/python3.10/dist-packages (from requests<3,>=2.21.0->tensorboard<2.16,>=2.15->tensorflow) (2024.2.2)\n",
            "Requirement already satisfied: MarkupSafe>=2.1.1 in /usr/local/lib/python3.10/dist-packages (from werkzeug>=1.0.1->tensorboard<2.16,>=2.15->tensorflow) (2.1.5)\n",
            "Requirement already satisfied: pyasn1<0.7.0,>=0.4.6 in /usr/local/lib/python3.10/dist-packages (from pyasn1-modules>=0.2.1->google-auth<3,>=1.6.3->tensorboard<2.16,>=2.15->tensorflow) (0.6.0)\n",
            "Requirement already satisfied: oauthlib>=3.0.0 in /usr/local/lib/python3.10/dist-packages (from requests-oauthlib>=0.7.0->google-auth-oauthlib<2,>=0.5->tensorboard<2.16,>=2.15->tensorflow) (3.2.2)\n"
          ]
        }
      ],
      "source": [
        "pip install tensorflow keras"
      ],
      "id": "-JQKB55RRciL"
    },
    {
      "cell_type": "code",
      "execution_count": 3,
      "metadata": {
        "id": "1f692dd4-0262-4e7a-b029-69d8280f14d2"
      },
      "outputs": [],
      "source": [
        "from tensorflow import keras\n",
        "from keras.models import Sequential\n",
        "from keras.datasets import mnist\n",
        "import numpy as np\n",
        "import matplotlib\n",
        "import matplotlib.pyplot as plt\n",
        "###################################\n",
        "# Write your own code here #\n",
        "\n",
        "\n",
        "from tensorflow.keras.layers import Conv2D, MaxPooling2D, Flatten, Dense\n",
        "from tensorflow.keras.utils import to_categorical\n",
        "\n",
        "###################################\n",
        "font = {'weight' : 'bold',\n",
        "        'size'   : 12}\n",
        "\n",
        "matplotlib.rc('font', **font)"
      ],
      "id": "1f692dd4-0262-4e7a-b029-69d8280f14d2"
    },
    {
      "cell_type": "markdown",
      "metadata": {
        "id": "9c4af957-fee1-4806-9d68-797d74c332df"
      },
      "source": [
        "### 1. Dataset"
      ],
      "id": "9c4af957-fee1-4806-9d68-797d74c332df"
    },
    {
      "cell_type": "markdown",
      "metadata": {
        "id": "33cf2443-c2ed-4aaa-9b10-fa598a4fb6cb"
      },
      "source": [
        "#### 1.1 Load Dataset"
      ],
      "id": "33cf2443-c2ed-4aaa-9b10-fa598a4fb6cb"
    },
    {
      "cell_type": "markdown",
      "metadata": {
        "id": "dd860d81-ab4d-48d2-a071-e0e8aec8000f"
      },
      "source": [
        "You can load the dataset using the following code"
      ],
      "id": "dd860d81-ab4d-48d2-a071-e0e8aec8000f"
    },
    {
      "cell_type": "code",
      "execution_count": 4,
      "metadata": {
        "colab": {
          "base_uri": "https://localhost:8080/"
        },
        "id": "1b6f52dc-788b-4481-95f2-c4de31cae037",
        "outputId": "8af0527d-ce26-4012-d63d-3625d8e338a4"
      },
      "outputs": [
        {
          "output_type": "stream",
          "name": "stdout",
          "text": [
            "Downloading data from https://storage.googleapis.com/tensorflow/tf-keras-datasets/mnist.npz\n",
            "11490434/11490434 [==============================] - 0s 0us/step\n"
          ]
        }
      ],
      "source": [
        "(X_train, y_train), (X_test, y_test) = mnist.load_data()"
      ],
      "id": "1b6f52dc-788b-4481-95f2-c4de31cae037"
    },
    {
      "cell_type": "markdown",
      "metadata": {
        "id": "853727ee-5836-4345-84dd-b0135b33e6d3"
      },
      "source": [
        "#### 1.2 Dataset examination"
      ],
      "id": "853727ee-5836-4345-84dd-b0135b33e6d3"
    },
    {
      "cell_type": "markdown",
      "metadata": {
        "id": "93e9f48e-3192-494a-9b0f-e2f66a7c286e"
      },
      "source": [
        "Using the following code, display random images,"
      ],
      "id": "93e9f48e-3192-494a-9b0f-e2f66a7c286e"
    },
    {
      "cell_type": "code",
      "execution_count": 5,
      "metadata": {
        "id": "522d7c5e-f50b-46d0-b79d-799d40ff2f1e"
      },
      "outputs": [],
      "source": [
        "def display_random_images(x_data: np.array, y_data: np.array, count: int = 10) -> None:\n",
        "  index = np.array(len(x_data))\n",
        "  selected_ind = np.random.choice(index, count)\n",
        "\n",
        "  selected_img = x_data[selected_ind]\n",
        "  selected_labels = y_data[selected_ind]\n",
        "  concat_img = np.concatenate(selected_img, axis=1)\n",
        "\n",
        "  plt.figure(figsize=(20,10))\n",
        "  plt.imshow(concat_img, cmap=\"gray\")\n",
        "\n",
        "  for id_label, label in enumerate(selected_labels):\n",
        "    plt.text(14 + 28*id_label, 28*(5/4), label)\n",
        "  plt.axis('off')\n",
        "  plt.show()"
      ],
      "id": "522d7c5e-f50b-46d0-b79d-799d40ff2f1e"
    },
    {
      "cell_type": "code",
      "execution_count": 6,
      "metadata": {
        "colab": {
          "base_uri": "https://localhost:8080/",
          "height": 215
        },
        "id": "452ea9c5-8438-4b10-8a0e-ef0e418ba5a0",
        "outputId": "f443aa1f-a074-4b5d-be84-04f618832b1b"
      },
      "outputs": [
        {
          "output_type": "display_data",
          "data": {
            "text/plain": [
              "<Figure size 2000x1000 with 1 Axes>"
            ],
            "image/png": "[encoded data removed]"
          },
          "metadata": {}
        }
      ],
      "source": [
        "display_random_images(X_train, y_train)"
      ],
      "id": "452ea9c5-8438-4b10-8a0e-ef0e418ba5a0"
    },
    {
      "cell_type": "markdown",
      "metadata": {
        "id": "6c0e3651-3921-4485-bdae-3731afcf03a2"
      },
      "source": [
        "Examine the dataset. Answer for yourself the following questions:\n",
        "\n",
        "- What kind of data occurs in our dataset?\n",
        "- How many data samples do we have in train and test datasets?\n",
        "- How many colour channels does the input variable have?\n",
        "- What is the size of the input images?\n",
        "- What is the necessary preprocessing of the input data X?\n",
        "- How many classes do we have in target varoable?\n",
        "- What is the necessary preprocessing of target variable y?"
      ],
      "id": "6c0e3651-3921-4485-bdae-3731afcf03a2"
    },
    {
      "cell_type": "markdown",
      "source": [
        "**The MNIST dataset consists of grayscale images of handwritten digits.**"
      ],
      "metadata": {
        "id": "rhdSedm_J0ym"
      },
      "id": "rhdSedm_J0ym"
    },
    {
      "cell_type": "code",
      "source": [
        "X_train.shape"
      ],
      "metadata": {
        "colab": {
          "base_uri": "https://localhost:8080/"
        },
        "id": "XrQfk6HlJ-JX",
        "outputId": "9d192649-cea2-4617-c5d0-cff723fe6df2"
      },
      "id": "XrQfk6HlJ-JX",
      "execution_count": 15,
      "outputs": [
        {
          "output_type": "execute_result",
          "data": {
            "text/plain": [
              "(60000, 28, 28, 1)"
            ]
          },
          "metadata": {},
          "execution_count": 15
        }
      ]
    },
    {
      "cell_type": "code",
      "source": [
        "X_test.shape"
      ],
      "metadata": {
        "colab": {
          "base_uri": "https://localhost:8080/"
        },
        "id": "o4AqVRZYKFSu",
        "outputId": "e4313328-63f9-4f6f-a638-4c133abf7531"
      },
      "id": "o4AqVRZYKFSu",
      "execution_count": 16,
      "outputs": [
        {
          "output_type": "execute_result",
          "data": {
            "text/plain": [
              "(10000, 28, 28, 1)"
            ]
          },
          "metadata": {},
          "execution_count": 16
        }
      ]
    },
    {
      "cell_type": "markdown",
      "source": [
        "MNIST are grayscale images so they have 1 color channel\n",
        "\n",
        "Normalize the pixel values to the range [0, 1] by dividing by 255."
      ],
      "metadata": {
        "id": "zyIkTQ49KI-X"
      },
      "id": "zyIkTQ49KI-X"
    },
    {
      "cell_type": "code",
      "source": [
        "print(f\"Number of classes: {len(np.unique(y_train))}\")"
      ],
      "metadata": {
        "colab": {
          "base_uri": "https://localhost:8080/"
        },
        "id": "h1R-RQ-gKJ72",
        "outputId": "37ed84fb-6e91-4498-9f4d-4fd231f710fe"
      },
      "id": "h1R-RQ-gKJ72",
      "execution_count": 17,
      "outputs": [
        {
          "output_type": "stream",
          "name": "stdout",
          "text": [
            "Number of classes: 2\n"
          ]
        }
      ]
    },
    {
      "cell_type": "markdown",
      "source": [],
      "metadata": {
        "id": "KoCk8QHoJ8lg"
      },
      "id": "KoCk8QHoJ8lg"
    },
    {
      "cell_type": "markdown",
      "metadata": {
        "id": "08273dd4-05d0-4cd8-b989-eca8a4d1328a"
      },
      "source": [
        "#### 1.3 Dataset preprocessing"
      ],
      "id": "08273dd4-05d0-4cd8-b989-eca8a4d1328a"
    },
    {
      "cell_type": "markdown",
      "metadata": {
        "id": "2c16ee55-312f-4ee5-86cd-e09426e16e82"
      },
      "source": [
        "Perform the necessary data preprocessing. The best way to preprocess the data would be one hot encoding for the target variable and normalization for the input variable (using min-max or z-score normalization)"
      ],
      "id": "2c16ee55-312f-4ee5-86cd-e09426e16e82"
    },
    {
      "cell_type": "code",
      "execution_count": 7,
      "metadata": {
        "id": "e07697fb-0feb-4df1-8ed2-b7b20f0c015f"
      },
      "outputs": [],
      "source": [
        "###################################\n",
        "# Write your own code here #\n",
        "\n",
        "# Normalizing the input data\n",
        "X_train = X_train.astype('float32') / 255.0\n",
        "X_test = X_test.astype('float32') / 255.0\n",
        "\n",
        "# Reshape data to have a single channel\n",
        "X_train = np.expand_dims(X_train, axis=-1)\n",
        "X_test = np.expand_dims(X_test, axis=-1)\n",
        "\n",
        "# One-hot encoding for the target variable\n",
        "y_train = to_categorical(y_train, 10)\n",
        "y_test = to_categorical(y_test, 10)\n",
        "\n",
        "###################################"
      ],
      "id": "e07697fb-0feb-4df1-8ed2-b7b20f0c015f"
    },
    {
      "cell_type": "markdown",
      "metadata": {
        "id": "d20d5fef-cbca-48a2-844f-c9638f0b6bf9"
      },
      "source": [
        "### 2. Build the model"
      ],
      "id": "d20d5fef-cbca-48a2-844f-c9638f0b6bf9"
    },
    {
      "cell_type": "markdown",
      "metadata": {
        "id": "ea554fcf-7acd-4453-b18d-b4982f6a10eb"
      },
      "source": [
        "In this section, your task will be to define the model architecture. The intial structure can be defined as follows:\n",
        "\n",
        "Input_layer -> Convolutional_layer(kernel_size=(3,3), no_channels=32) -> Maxpooling_layer(kernel_size=(2, 2)) -> Flatten_layer -> Dense_layer (num_classes)\n",
        "    \n",
        "    \n"
      ],
      "id": "ea554fcf-7acd-4453-b18d-b4982f6a10eb"
    },
    {
      "cell_type": "markdown",
      "metadata": {
        "id": "0ffd3896-079e-4758-9579-387f33af9691"
      },
      "source": [
        "#### 2.1 Define the model structure"
      ],
      "id": "0ffd3896-079e-4758-9579-387f33af9691"
    },
    {
      "cell_type": "code",
      "execution_count": 8,
      "metadata": {
        "id": "77238bdf-ad74-4246-920d-a1dc28564306"
      },
      "outputs": [],
      "source": [
        "\n",
        "###################################\n",
        "# Write your own code here #\n",
        "model = Sequential([\n",
        "    Conv2D(32, (3, 3), activation='relu', input_shape=(28, 28, 1)),\n",
        "    MaxPooling2D((2, 2)),\n",
        "    Flatten(),\n",
        "    Dense(10, activation='softmax')\n",
        "])\n",
        "\n",
        "\n",
        "\n",
        "###################################\n"
      ],
      "id": "77238bdf-ad74-4246-920d-a1dc28564306"
    },
    {
      "cell_type": "markdown",
      "metadata": {
        "id": "fde4b3eb-90e1-4724-89df-0db1872560d4"
      },
      "source": [
        "#### 2.2 Compile the model"
      ],
      "id": "fde4b3eb-90e1-4724-89df-0db1872560d4"
    },
    {
      "cell_type": "markdown",
      "metadata": {
        "id": "a467f8fb-8bfc-4cd4-9eee-820c1b9b5a52"
      },
      "source": [
        "Build the model, use the relevant metrics, optimizer and loss function. While choosing the metrics and loss function, consider fact that we are are trying to solve the multiclass classification problem"
      ],
      "id": "a467f8fb-8bfc-4cd4-9eee-820c1b9b5a52"
    },
    {
      "cell_type": "code",
      "execution_count": 9,
      "metadata": {
        "colab": {
          "base_uri": "https://localhost:8080/"
        },
        "id": "e6d1a924-9e2f-4ca2-b4d6-4724f51ae065",
        "outputId": "3c35ae66-5074-4c5c-ddc3-26240eb314ce"
      },
      "outputs": [
        {
          "output_type": "stream",
          "name": "stdout",
          "text": [
            "Model: \"sequential\"\n",
            "_________________________________________________________________\n",
            " Layer (type)                Output Shape              Param #   \n",
            "=================================================================\n",
            " conv2d (Conv2D)             (None, 26, 26, 32)        320       \n",
            "                                                                 \n",
            " max_pooling2d (MaxPooling2  (None, 13, 13, 32)        0         \n",
            " D)                                                              \n",
            "                                                                 \n",
            " flatten (Flatten)           (None, 5408)              0         \n",
            "                                                                 \n",
            " dense (Dense)               (None, 10)                54090     \n",
            "                                                                 \n",
            "=================================================================\n",
            "Total params: 54410 (212.54 KB)\n",
            "Trainable params: 54410 (212.54 KB)\n",
            "Non-trainable params: 0 (0.00 Byte)\n",
            "_________________________________________________________________\n"
          ]
        }
      ],
      "source": [
        "loss = None\n",
        "optimizer = None\n",
        "metrics = None\n",
        "learning_rate = 0.0\n",
        "\n",
        "###################################\n",
        "# Write your own code here #\n",
        "\n",
        "model.compile(optimizer='adam',\n",
        "              loss='categorical_crossentropy',\n",
        "              metrics=['accuracy'])\n",
        "\n",
        "###################################\n",
        "model.summary()"
      ],
      "id": "e6d1a924-9e2f-4ca2-b4d6-4724f51ae065"
    },
    {
      "cell_type": "markdown",
      "metadata": {
        "id": "f146b70f-2e8c-484f-abfd-6fc4a8b8177b"
      },
      "source": [
        "### 3. Training stage"
      ],
      "id": "f146b70f-2e8c-484f-abfd-6fc4a8b8177b"
    },
    {
      "cell_type": "markdown",
      "metadata": {
        "id": "cb1de787-9e40-47e2-bc54-44ccd1864357"
      },
      "source": [
        "#### 3.1 Model training"
      ],
      "id": "cb1de787-9e40-47e2-bc54-44ccd1864357"
    },
    {
      "cell_type": "markdown",
      "metadata": {
        "id": "2b9c7722-aed7-4b2d-a292-572921f0734b"
      },
      "source": [
        "train your model, define the relevant hyperparameters (no. epochs, batch_size), use 20p of the training data for validation"
      ],
      "id": "2b9c7722-aed7-4b2d-a292-572921f0734b"
    },
    {
      "cell_type": "code",
      "execution_count": 10,
      "metadata": {
        "colab": {
          "base_uri": "https://localhost:8080/"
        },
        "id": "4f858566-601d-4873-ad02-a0635bd8f526",
        "outputId": "62cb2117-2f1a-4106-bcd6-b54e61d2cfce"
      },
      "outputs": [
        {
          "output_type": "stream",
          "name": "stdout",
          "text": [
            "Epoch 1/10\n",
            "375/375 [==============================] - 17s 45ms/step - loss: 0.4083 - accuracy: 0.8889 - val_loss: 0.2090 - val_accuracy: 0.9398\n",
            "Epoch 2/10\n",
            "375/375 [==============================] - 18s 49ms/step - loss: 0.1725 - accuracy: 0.9512 - val_loss: 0.1326 - val_accuracy: 0.9641\n",
            "Epoch 3/10\n",
            "375/375 [==============================] - 18s 49ms/step - loss: 0.1170 - accuracy: 0.9662 - val_loss: 0.1044 - val_accuracy: 0.9700\n",
            "Epoch 4/10\n",
            "375/375 [==============================] - 16s 41ms/step - loss: 0.0916 - accuracy: 0.9742 - val_loss: 0.0887 - val_accuracy: 0.9749\n",
            "Epoch 5/10\n",
            "375/375 [==============================] - 15s 41ms/step - loss: 0.0770 - accuracy: 0.9784 - val_loss: 0.0830 - val_accuracy: 0.9770\n",
            "Epoch 6/10\n",
            "375/375 [==============================] - 26s 71ms/step - loss: 0.0673 - accuracy: 0.9800 - val_loss: 0.0743 - val_accuracy: 0.9783\n",
            "Epoch 7/10\n",
            "375/375 [==============================] - 18s 48ms/step - loss: 0.0595 - accuracy: 0.9830 - val_loss: 0.0705 - val_accuracy: 0.9801\n",
            "Epoch 8/10\n",
            "375/375 [==============================] - 16s 41ms/step - loss: 0.0543 - accuracy: 0.9840 - val_loss: 0.0690 - val_accuracy: 0.9782\n",
            "Epoch 9/10\n",
            "375/375 [==============================] - 15s 41ms/step - loss: 0.0491 - accuracy: 0.9858 - val_loss: 0.0686 - val_accuracy: 0.9812\n",
            "Epoch 10/10\n",
            "375/375 [==============================] - 16s 43ms/step - loss: 0.0452 - accuracy: 0.9867 - val_loss: 0.0651 - val_accuracy: 0.9808\n"
          ]
        }
      ],
      "source": [
        "###################################\n",
        "# Write your own code here #\n",
        "\n",
        "history = model.fit(X_train, y_train, epochs=10, batch_size=128, validation_split=0.2)\n",
        "\n",
        "###################################"
      ],
      "id": "4f858566-601d-4873-ad02-a0635bd8f526"
    },
    {
      "cell_type": "markdown",
      "metadata": {
        "id": "45651f2d-5cc4-4896-8edc-f58b50fed605"
      },
      "source": [
        "#### 3.1 Model Evaluation on validation data"
      ],
      "id": "45651f2d-5cc4-4896-8edc-f58b50fed605"
    },
    {
      "cell_type": "markdown",
      "metadata": {
        "id": "eb4ea2f2-fcc8-4308-82f6-3dbd5857e989"
      },
      "source": [
        "Plot the development of the training and validation loss, and training and validation metrics."
      ],
      "id": "eb4ea2f2-fcc8-4308-82f6-3dbd5857e989"
    },
    {
      "cell_type": "code",
      "execution_count": 18,
      "metadata": {
        "id": "841d1e30-e448-4b53-b3fc-9b97863391bb",
        "colab": {
          "base_uri": "https://localhost:8080/",
          "height": 945
        },
        "outputId": "81feef69-b6c8-4fb6-97cc-a9f0e1bda2e7"
      },
      "outputs": [
        {
          "output_type": "display_data",
          "data": {
            "text/plain": [
              "<Figure size 640x480 with 1 Axes>"
            ],
            "image/png": "[encoded data removed]"
          },
          "metadata": {}
        },
        {
          "output_type": "display_data",
          "data": {
            "text/plain": [
              "<Figure size 640x480 with 1 Axes>"
            ],
            "image/png": "[encoded data removed]"
          },
          "metadata": {}
        }
      ],
      "source": [
        "###################################\n",
        "# Write your own code here #\n",
        "\n",
        "# Plot training & validation accuracy values\n",
        "plt.plot(history.history['accuracy'])\n",
        "plt.plot(history.history['val_accuracy'])\n",
        "plt.title('Model accuracy')\n",
        "plt.ylabel('Accuracy')\n",
        "plt.xlabel('Epoch')\n",
        "plt.legend(['Train', 'Validation'], loc='upper left')\n",
        "plt.show()\n",
        "\n",
        "# Plot training & validation loss values\n",
        "plt.plot(history.history['loss'])\n",
        "plt.plot(history.history['val_loss'])\n",
        "plt.title('Model loss')\n",
        "plt.ylabel('Loss')\n",
        "plt.xlabel('Epoch')\n",
        "plt.legend(['Train', 'Validation'], loc='upper left')\n",
        "plt.show()\n",
        "\n",
        "\n",
        "\n",
        "###################################"
      ],
      "id": "841d1e30-e448-4b53-b3fc-9b97863391bb"
    },
    {
      "cell_type": "markdown",
      "metadata": {
        "id": "22cd86fb-6b4c-4299-a077-fec0ab62464c"
      },
      "source": [
        "### 4. Model evaluation"
      ],
      "id": "22cd86fb-6b4c-4299-a077-fec0ab62464c"
    },
    {
      "cell_type": "markdown",
      "metadata": {
        "id": "9d93b7ad-3416-451d-8762-968f4cf1dd13"
      },
      "source": [
        "Evaluate the model on the testing dataset using the relevant metrics. Use the confusion metrics as the one of the metrics."
      ],
      "id": "9d93b7ad-3416-451d-8762-968f4cf1dd13"
    },
    {
      "cell_type": "code",
      "execution_count": 12,
      "metadata": {
        "id": "8134b757-aca1-4a0d-a0d2-3a3d0daa8d38",
        "colab": {
          "base_uri": "https://localhost:8080/"
        },
        "outputId": "2ec94a64-19a1-44ab-dc80-a6fd32c99a13"
      },
      "outputs": [
        {
          "output_type": "stream",
          "name": "stdout",
          "text": [
            "313/313 [==============================] - 1s 4ms/step - loss: 0.0605 - accuracy: 0.9807\n",
            "Test Loss: 0.06046643108129501\n",
            "Test Accuracy: 0.9807000160217285\n"
          ]
        }
      ],
      "source": [
        "###################################\n",
        "# Write your own code here #\n",
        "\n",
        "loss, accuracy = model.evaluate(X_test, y_test)\n",
        "print(f'Test Loss: {loss}')\n",
        "print(f'Test Accuracy: {accuracy}')\n",
        "\n",
        "\n",
        "###################################"
      ],
      "id": "8134b757-aca1-4a0d-a0d2-3a3d0daa8d38"
    },
    {
      "cell_type": "markdown",
      "metadata": {
        "id": "44a3f72d-1d76-4d98-9f03-1f8293ed6ad6"
      },
      "source": [
        "### 5. Hyperparameter tunning and regularization techniques"
      ],
      "id": "44a3f72d-1d76-4d98-9f03-1f8293ed6ad6"
    },
    {
      "cell_type": "markdown",
      "metadata": {
        "id": "e6140057-ce25-4e97-ae7b-81a47a30bebc"
      },
      "source": [
        "When your code is ready and fully functional, try several changes in the hyperparameters and see how they influence the testing metrics. Try changes in the network structure. You can also try adding regularization techniques such as L1, L2, and Dropout. Based on the development of training and validation loss, try to identify overfitting and avoid it"
      ],
      "id": "e6140057-ce25-4e97-ae7b-81a47a30bebc"
    },
    {
      "cell_type": "code",
      "execution_count": 14,
      "metadata": {
        "id": "f1f4b10b-7487-45f4-8702-267715e4041c",
        "colab": {
          "base_uri": "https://localhost:8080/",
          "height": 211
        },
        "outputId": "99e762fe-ec60-449a-b86f-4bb0bb24a368"
      },
      "outputs": [
        {
          "output_type": "error",
          "ename": "NameError",
          "evalue": "name 'create_model' is not defined",
          "traceback": [
            "\u001b[0;31m---------------------------------------------------------------------------\u001b[0m",
            "\u001b[0;31mNameError\u001b[0m                                 Traceback (most recent call last)",
            "\u001b[0;32m<ipython-input-14-a4f5c527d9a4>\u001b[0m in \u001b[0;36m<cell line: 14>\u001b[0;34m()\u001b[0m\n\u001b[1;32m     17\u001b[0m             \u001b[0;32mfor\u001b[0m \u001b[0mdropout_rate\u001b[0m \u001b[0;32min\u001b[0m \u001b[0mdropout_rates\u001b[0m\u001b[0;34m:\u001b[0m\u001b[0;34m\u001b[0m\u001b[0;34m\u001b[0m\u001b[0m\n\u001b[1;32m     18\u001b[0m                 \u001b[0;32mfor\u001b[0m \u001b[0mreg\u001b[0m \u001b[0;32min\u001b[0m \u001b[0mregularizations\u001b[0m\u001b[0;34m:\u001b[0m\u001b[0;34m\u001b[0m\u001b[0;34m\u001b[0m\u001b[0m\n\u001b[0;32m---> 19\u001b[0;31m                     \u001b[0mmodel\u001b[0m \u001b[0;34m=\u001b[0m \u001b[0mcreate_model\u001b[0m\u001b[0;34m(\u001b[0m\u001b[0mlearning_rate\u001b[0m\u001b[0;34m=\u001b[0m\u001b[0mlr\u001b[0m\u001b[0;34m,\u001b[0m \u001b[0mnum_layers\u001b[0m\u001b[0;34m=\u001b[0m\u001b[0mlayers\u001b[0m\u001b[0;34m,\u001b[0m \u001b[0mnum_neurons\u001b[0m\u001b[0;34m=\u001b[0m\u001b[0mneurons\u001b[0m\u001b[0;34m,\u001b[0m \u001b[0mdropout_rate\u001b[0m\u001b[0;34m=\u001b[0m\u001b[0mdropout_rate\u001b[0m\u001b[0;34m,\u001b[0m \u001b[0mregularization\u001b[0m\u001b[0;34m=\u001b[0m\u001b[0mreg\u001b[0m\u001b[0;34m)\u001b[0m\u001b[0;34m\u001b[0m\u001b[0;34m\u001b[0m\u001b[0m\n\u001b[0m\u001b[1;32m     20\u001b[0m                     \u001b[0mhistory\u001b[0m \u001b[0;34m=\u001b[0m \u001b[0mmodel\u001b[0m\u001b[0;34m.\u001b[0m\u001b[0mfit\u001b[0m\u001b[0;34m(\u001b[0m\u001b[0mX_train\u001b[0m\u001b[0;34m,\u001b[0m \u001b[0my_train\u001b[0m\u001b[0;34m,\u001b[0m \u001b[0mepochs\u001b[0m\u001b[0;34m=\u001b[0m\u001b[0;36m10\u001b[0m\u001b[0;34m,\u001b[0m \u001b[0mbatch_size\u001b[0m\u001b[0;34m=\u001b[0m\u001b[0;36m128\u001b[0m\u001b[0;34m,\u001b[0m \u001b[0mvalidation_split\u001b[0m\u001b[0;34m=\u001b[0m\u001b[0;36m0.2\u001b[0m\u001b[0;34m,\u001b[0m \u001b[0mverbose\u001b[0m\u001b[0;34m=\u001b[0m\u001b[0;36m0\u001b[0m\u001b[0;34m)\u001b[0m\u001b[0;34m\u001b[0m\u001b[0;34m\u001b[0m\u001b[0m\n\u001b[1;32m     21\u001b[0m                     \u001b[0mloss\u001b[0m\u001b[0;34m,\u001b[0m \u001b[0maccuracy\u001b[0m \u001b[0;34m=\u001b[0m \u001b[0mmodel\u001b[0m\u001b[0;34m.\u001b[0m\u001b[0mevaluate\u001b[0m\u001b[0;34m(\u001b[0m\u001b[0mX_test\u001b[0m\u001b[0;34m,\u001b[0m \u001b[0my_test\u001b[0m\u001b[0;34m,\u001b[0m \u001b[0mverbose\u001b[0m\u001b[0;34m=\u001b[0m\u001b[0;36m0\u001b[0m\u001b[0;34m)\u001b[0m\u001b[0;34m\u001b[0m\u001b[0;34m\u001b[0m\u001b[0m\n",
            "\u001b[0;31mNameError\u001b[0m: name 'create_model' is not defined"
          ]
        }
      ],
      "source": [
        "\n",
        "from tensorflow.keras import regularizers\n",
        "\n",
        "\n",
        "# Define hyperparameters and regularization options\n",
        "learning_rates = [0.001, 0.01, 0.1]\n",
        "num_layers = [1, 2, 3]\n",
        "num_neurons = [32, 64, 128]\n",
        "dropout_rates = [0.2, 0.3, 0.4]\n",
        "regularizations = [None, regularizers.l1(0.001), regularizers.l2(0.001)]\n",
        "\n",
        "# Perform experiments\n",
        "results = {}\n",
        "\n",
        "for lr in learning_rates:\n",
        "    for layers in num_layers:\n",
        "        for neurons in num_neurons:\n",
        "            for dropout_rate in dropout_rates:\n",
        "                for reg in regularizations:\n",
        "                    model = create_model(learning_rate=lr, num_layers=layers, num_neurons=neurons, dropout_rate=dropout_rate, regularization=reg)\n",
        "                    history = model.fit(X_train, y_train, epochs=10, batch_size=128, validation_split=0.2, verbose=0)\n",
        "                    loss, accuracy = model.evaluate(X_test, y_test, verbose=0)\n",
        "                    results[(lr, layers, neurons, dropout_rate, reg)] = (loss, accuracy)\n"
      ],
      "id": "f1f4b10b-7487-45f4-8702-267715e4041c"
    }
  ],
  "metadata": {
    "colab": {
      "provenance": [],
      "include_colab_link": true
    },
    "kernelspec": {
      "display_name": "Python 3 (ipykernel)",
      "language": "python",
      "name": "python3"
    },
    "language_info": {
      "codemirror_mode": {
        "name": "ipython",
        "version": 3
      },
      "file_extension": ".py",
      "mimetype": "text/x-python",
      "name": "python",
      "nbconvert_exporter": "python",
      "pygments_lexer": "ipython3",
      "version": "3.10.12"
    }
  },
  "nbformat": 4,
  "nbformat_minor": 5
}